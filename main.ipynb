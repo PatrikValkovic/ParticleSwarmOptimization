{
 "cells": [
  {
   "cell_type": "code",
   "execution_count": 15,
   "metadata": {
    "pycharm": {
     "name": "#%%\n"
    },
    "scrolled": true
   },
   "outputs": [],
   "source": [
    "from IPython.core.interactiveshell import InteractiveShell\n",
    "InteractiveShell.ast_node_interactivity = \"all\"\n",
    "from IPython import display\n",
    "\n",
    "SHOW_GIFS = False"
   ]
  },
  {
   "cell_type": "code",
   "execution_count": 2,
   "metadata": {
    "scrolled": true
   },
   "outputs": [],
   "source": [
    "import numpy as np\n",
    "import matplotlib.pylab as plt\n",
    "import functions as fn\n",
    "import execution as pso\n",
    "import strategies\n",
    "import plotting as plot"
   ]
  },
  {
   "cell_type": "code",
   "execution_count": 14,
   "metadata": {
    "pycharm": {
     "name": "#%%\n"
    },
    "scrolled": false
   },
   "outputs": [
    {
     "name": "stderr",
     "output_type": "stream",
     "text": [
      "100% (200 of 200) |######################| Elapsed Time: 0:00:20 Time:  0:00:20\n"
     ]
    }
   ],
   "source": [
    "with fn.get_functions(dimension=[2], function_indices=[5]) as suite:\n",
    "    for function in suite:  # type: fn.cocoex.Problem\n",
    "        populations, values = pso.execute_multiple(\n",
    "            function,\n",
    "            strategies.random_walk,\n",
    "            repeats=200,\n",
    "            show_progress=True\n",
    "        )\n",
    "        \n",
    "        #plotting.plot_population(function, populations[-5])\n",
    "        #plotting.plot_population(function, populations[-4])\n",
    "        #plotting.plot_population(function, populations[-3])\n",
    "        #plotting.plot_population(function, populations[-2])\n",
    "        #plotting.plot_population(function, populations[-1])\n",
    "\n",
    "        #plotting.plot_movement_of_individual(function, populations[:,5,:])\n",
    "\n",
    "        if SHOW_GIFS:\n",
    "            gif = plot.animate_movement(function, populations, figsize=(12,8))\n",
    "            display.Image(data=gif, format='png')"
   ]
  },
  {
   "cell_type": "code",
   "execution_count": null,
   "outputs": [],
   "source": [
    "plt.figure(figsize=(12,8))\n",
    "\n",
    "for val in values:\n",
    "    plot.plot_graph(val, plot.plotfn_median(), alpha=0.2)\n",
    "plot.plot_aggregated(values+1, plot.plotfn_median(), plot.aggfn_mean(), label=\"mean\", c='r', alpha=0.3)\n",
    "plot.plot_aggregated(values+1, plot.plotfn_median(), plot.aggfn_median(), label=\"median\", c='b', alpha=0.3)\n",
    "\n",
    "plt.legend()\n",
    "plt.show()"
   ],
   "metadata": {
    "collapsed": false,
    "pycharm": {
     "name": "#%%\n"
    }
   }
  }
 ],
 "metadata": {
  "kernelspec": {
   "display_name": "Python 3",
   "language": "python",
   "name": "python3"
  },
  "language_info": {
   "codemirror_mode": {
    "name": "ipython",
    "version": 3
   },
   "file_extension": ".py",
   "mimetype": "text/x-python",
   "name": "python",
   "nbconvert_exporter": "python",
   "pygments_lexer": "ipython3",
   "version": "3.7.5"
  }
 },
 "nbformat": 4,
 "nbformat_minor": 4
}