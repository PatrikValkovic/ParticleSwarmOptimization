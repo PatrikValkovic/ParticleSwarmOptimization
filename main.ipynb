{
 "cells": [
  {
   "cell_type": "code",
   "execution_count": null,
   "metadata": {},
   "outputs": [],
   "source": [
    "%config IPCompleter.greedy=True\n",
    "%load_ext autoreload\n",
    "%autoreload 2\n",
    "from IPython.core.interactiveshell import InteractiveShell\n",
    "InteractiveShell.ast_node_interactivity = \"all\"\n",
    "from IPython import display\n",
    "SHOW_GIFS = True"
   ]
  },
  {
   "cell_type": "markdown",
   "metadata": {},
   "source": [
    "# History\n",
    "\n",
    "The fathers of Particle Swarm Optimization technique are considered James Kennedy and Russel Eberhart, who present them in their paper \"Particle Swarm Optimization\" in 1995 [[1]]([#Bibliography]). Authors take inspiration in nature, concretely in bird flocking and fish schooling and in their simulations already implemented in that time. We can see the behaviours in the videos bellow."
   ]
  },
  {
   "cell_type": "code",
   "execution_count": null,
   "metadata": {},
   "outputs": [],
   "source": [
    "display.YouTubeVideo('0dskCpuxqtI?start=8', 560, 315)"
   ]
  },
  {
   "cell_type": "code",
   "execution_count": null,
   "metadata": {},
   "outputs": [],
   "source": [
    "display.YouTubeVideo('Y-5ffl5_7AI?start=90', 560, 315)"
   ]
  },
  {
   "cell_type": "markdown",
   "metadata": {},
   "source": [
    "If you play watch through the second video, you can see one of the attempt to fully understand how the fish schooling really behaves by tracking each fish. Although not very important to us, I think it's still interesting."
   ]
  },
  {
   "cell_type": "markdown",
   "metadata": {},
   "source": [
    "Let's return to the topic. As scientists found out, the behavior of swarms is most of the time based on very simple rules, but executed in distributed manner. For example, when fish in the swarm see food, it will swim toward it. Otherwise, the fish keeps the same direction as its neighboors. As some wish change their direction toward the food, the rest of the swarm would follow them. As a result, the whole swarm reach the food and, in case there is no competetion between individuals (enough food for each one), each fish feed itself. \n",
    "\n",
    "Although there is no explicit communication, the simple rules provide simple information sharing ability inside the flock, increasing the total gain of the group as a whole.\n",
    "\n",
    "The authors of the paper tried some approaches both to optimize given function and to simulate flock most \"lifely\". I will start simple and improve the idea further. "
   ]
  },
  {
   "cell_type": "markdown",
   "metadata": {},
   "source": [
    "# Particles"
   ]
  },
  {
   "cell_type": "code",
   "execution_count": null,
   "metadata": {},
   "outputs": [],
   "source": [
    "import numpy as np\n",
    "import matplotlib.pylab as plt\n",
    "import cocoex\n",
    "import functools\n",
    "import functions as fn\n",
    "import execution as exe\n",
    "import plotting as plot\n",
    "import inspect\n",
    "import strategies\n",
    "import utils\n",
    "from PIL import Image\n",
    "import os\n",
    "import functools"
   ]
  },
  {
   "cell_type": "markdown",
   "metadata": {},
   "source": [
    "First of all, we will have a set of particles scattered over the parameter space. We can for example let them move randomly around."
   ]
  },
  {
   "cell_type": "code",
   "execution_count": null,
   "metadata": {},
   "outputs": [],
   "source": [
    "definition = inspect.getsource(strategies.random_walk)\n",
    "display.display(display.Markdown(f'```python\\n{definition}\\n```'))"
   ]
  },
  {
   "cell_type": "code",
   "execution_count": null,
   "metadata": {
    "scrolled": false
   },
   "outputs": [],
   "source": [
    "with fn.get_suite_wrapper(dimension=[2], function_indices=[7]) as suite:\n",
    "    for function in suite:\n",
    "        populations, values = exe.execute(function, strategies.random_walk, show_progress=True)\n",
    "        \n",
    "        plt.figure(figsize=(12,8))\n",
    "        plot.plot_graph(values, plot.popfn_median())\n",
    "        plt.show()\n",
    "        \n",
    "        if SHOW_GIFS:\n",
    "            gif = plot.animate_movement(function, populations, show_progress=True)\n",
    "            with open(os.path.join(\"main\", \"001.gif\"), \"wb\") as f:\n",
    "                f.write(gif);\n",
    "            display.Markdown(\"![img](main/001.gif)\")"
   ]
  },
  {
   "cell_type": "markdown",
   "metadata": {},
   "source": [
    "In Particle Swarm Optimization, the positions are not updated directly, instead, we assign each particle a velocity. Each iteration we modify the velocity and let the velocity determine the next position. Again, we may initialized the velocity uniformly and then update it randomly each iteration. Formally, the position is updated as\n",
    "\n",
    "$$\n",
    "p_i(t+1) = p_t(t) + v_i(t+1) \n",
    "$$\n",
    "\n",
    "Velocity update is what differs between approaches. In the previous case (with only random walks) the update is \n",
    "\n",
    "$$\n",
    "v_i(t+1) = v_t(t) + N(0, \\text{stepsize})\n",
    "$$\n",
    "\n",
    "Note that the velocity is the main reason, why we call the individuals particles, as velocity is usually connected with something with mass. Otherwise, we could call them just points or dots."
   ]
  },
  {
   "cell_type": "code",
   "execution_count": null,
   "metadata": {},
   "outputs": [],
   "source": [
    "definition = inspect.getsource(strategies.RandomVelocity)\n",
    "display.display(display.Markdown(f'```python\\n{definition}\\n```'))"
   ]
  },
  {
   "cell_type": "code",
   "execution_count": null,
   "metadata": {},
   "outputs": [],
   "source": [
    "with fn.get_suite_wrapper(dimension=[2], function_indices=[7]) as suite:\n",
    "    for function in suite:\n",
    "        populations, values = exe.execute(\n",
    "            function, \n",
    "            strategies.RandomVelocity.execute, \n",
    "            initialization = strategies.RandomVelocity.init,\n",
    "            show_progress=True)\n",
    "        \n",
    "        plt.figure(figsize=(12,8))\n",
    "        plot.plot_graph(values, plot.popfn_median())\n",
    "        plt.show()\n",
    "        \n",
    "        if SHOW_GIFS:\n",
    "            gif = plot.animate_movement(function, populations, show_progress=True)\n",
    "            with open(os.path.join(\"main\", \"002.gif\"), \"wb\") as f:\n",
    "                f.write(gif);\n",
    "            display.Markdown(\"![img](main/002.gif)\")"
   ]
  },
  {
   "cell_type": "markdown",
   "metadata": {},
   "source": [
    "Note how the particles end up on the edge. Although I limit the position, so all particles stay within the area, it is not reflect in the in the velocity update. I will deal with it a bit later."
   ]
  },
  {
   "cell_type": "markdown",
   "metadata": {},
   "source": [
    "However, what is usually done is to decrease velocity a little bit every iteration, so the velocity can't \"explode\" too much. The parameter $w$ is there exactly for that purpose. We may set it to value between $(0.0, 1.0)$ to decrease velocity every step. As we will see, proposed constant by the paper is $w = \\frac{1}{2 \\cdot log(2)} \\approx 0.721$."
   ]
  },
  {
   "cell_type": "code",
   "execution_count": null,
   "metadata": {
    "scrolled": false
   },
   "outputs": [],
   "source": [
    "with fn.get_suite_wrapper(dimension=[2], function_indices=[7]) as suite:\n",
    "    for function in suite:\n",
    "        populations, values = exe.execute(\n",
    "            function, \n",
    "            functools.partial(strategies.RandomVelocity.execute, w=1/(2*np.log(2))), \n",
    "            initialization = strategies.RandomVelocity.init,\n",
    "            show_progress=True)\n",
    "        \n",
    "        plt.figure(figsize=(12,8))\n",
    "        plot.plot_graph(values, plot.popfn_median())\n",
    "        plt.show()\n",
    "        \n",
    "        if SHOW_GIFS:\n",
    "            gif = plot.animate_movement(function, populations, show_progress=True)\n",
    "            with open(os.path.join(\"main\", \"003.gif\"), \"wb\") as f:\n",
    "                f.write(gif);\n",
    "            display.Markdown(\"![img](main/003.gif)\")"
   ]
  },
  {
   "cell_type": "markdown",
   "metadata": {},
   "source": [
    "# Comparison - differencial evolution\n",
    "\n",
    "Previous two examples were great to show the main principes, however, the results were not very satysfying. I wanted some algorithm, that I could compare algorithms with. I choose Differential evolution [[2]](#Bibliography), that was published around the same time (1996) and thus is a good candidate for comparison. Moreover, from my experience, differential evolution works quiet well for continuous optimization.\n",
    "\n",
    "In the differential evolution, new individuals are based on the following formula.\n",
    "$$\n",
    "m_n = \\text{Uniform}(p_3, p_0 + F \\cdot (p_1 - p_2), CR)\n",
    "$$\n",
    "\n",
    "Terms $p_0, \\dots, p_3$ are parents. Firstly, the algorithm adds difference of two parents and then performs uniform mutation with probability $1 - CR$. Moreover, I used parental tournament selection to pick up parents for the next iteration."
   ]
  },
  {
   "cell_type": "code",
   "execution_count": null,
   "metadata": {},
   "outputs": [],
   "source": [
    "definition = inspect.getsource(strategies.differential_evolution)\n",
    "display.display(display.Markdown(f'```python\\n{definition}\\n```'))"
   ]
  },
  {
   "cell_type": "code",
   "execution_count": null,
   "metadata": {
    "scrolled": false
   },
   "outputs": [],
   "source": [
    "with fn.get_suite_wrapper(dimension=[2, 5], function_indices=[7]) as suite:\n",
    "    for function in suite:  # type: cocoex.Problem\n",
    "        populations, values = exe.execute(\n",
    "            function, \n",
    "            strategies.differential_evolution, \n",
    "            show_progress=True)\n",
    "\n",
    "        plt.figure(figsize=(12,8))\n",
    "        plot.plot_graph(values, plot.popfn_median())\n",
    "        plt.title(f\"Function f07 {function.dimension}D using differential evolution\")\n",
    "        plt.show()\n",
    "        \n",
    "        if SHOW_GIFS and function.dimension == 2:\n",
    "            gif = plot.animate_movement(function, populations, show_progress=True)\n",
    "            with open(os.path.join(\"main\", \"004.gif\"), \"wb\") as f:\n",
    "                f.write(gif);\n",
    "            display.Markdown(\"![img](main/004.gif)\")\n",
    "            \n",
    "\n",
    "        print(('Found' if function.final_target_hit else 'Not found') + \" best solution\", flush=True)\n",
    "        print(f\"Best evaluation: {function.best_observed_fvalue1}\", flush=True)"
   ]
  },
  {
   "cell_type": "markdown",
   "metadata": {},
   "source": [
    "As we can see, the algorithm is already doing something and although it doesn't find the optimal solution (that is $35.35$), it wasn't far away (the BBOB framework accepts solution around $10^{-9}$ of optimum). From now on, I will compare rest of the algorithms to this implementation of differential strategy."
   ]
  },
  {
   "cell_type": "markdown",
   "metadata": {},
   "source": [
    "# Taking best particle into account\n",
    "\n",
    "In order to perform some optimization, we need to guide the particles somehow. The simplest approach is to pick up the best particle $b$ and move all other particles toward it. However, the particles shoudn't be fully deterministic. Therefore, I will introduce random weight to this direction, sampled randomly from uniform distribution between $0$ and $c$. Again, $c$ proposed by the paper is $c=0.5 + log(2) \\approx 1.193$, so i will stick to this value. Formally, weight update is\n",
    "\n",
    "$$\n",
    "v_i = w \\cdot v_t + \\text{Unif}(0,c)\\cdot(b - p_i) + N(0, \\textit{stepsize})\n",
    "$$\n",
    "\n",
    "We can thing about the best perticle in a swarm as about some swarm knowledge about the problem."
   ]
  },
  {
   "cell_type": "code",
   "execution_count": null,
   "metadata": {},
   "outputs": [],
   "source": [
    "definition = inspect.getsource(strategies.FollowBest)\n",
    "display.display(display.Markdown(f'```python\\n{definition}\\n```'))"
   ]
  },
  {
   "cell_type": "code",
   "execution_count": null,
   "metadata": {
    "scrolled": false
   },
   "outputs": [],
   "source": [
    "with fn.get_suite_wrapper(dimension=[2, 5], function_indices=[7]) as suite:\n",
    "    for function in suite:  # type: cocoex.Problem\n",
    "        populations, values = exe.execute_multiple(\n",
    "            function, \n",
    "            strategies.FollowBest.execute,\n",
    "            initialization=strategies.FollowBest.init,\n",
    "            show_progress=True)\n",
    "        print(('Found' if function.final_target_hit else 'Not found') + \" best solution\", flush=True)\n",
    "        print(f\"Best evaluation: {function.best_observed_fvalue1}\", flush=True)\n",
    "        eva_population, eva_values = exe.execute_multiple(function,strategies.differential_evolution)\n",
    "\n",
    "        plt.figure(figsize=(12,8))\n",
    "        plt.title(function.name)\n",
    "        plot.plot_aggregated(values, plot.popfn_median(), plot.aggfn_median(), label=\"Follow best\", c='r')\n",
    "        plot.plot_aggregated(eva_values, plot.popfn_median(), plot.aggfn_median(), label=\"Differential evolution\", c='b')\n",
    "        plt.legend()\n",
    "        plt.show()\n",
    "        \n",
    "        if SHOW_GIFS and function.dimension == 2:\n",
    "            gif = plot.animate_movement(function, populations[0], show_progress=True)\n",
    "            with open(os.path.join(\"main\", \"005.gif\"), \"wb\") as f:\n",
    "                f.write(gif);\n",
    "            display.Markdown(\"![img](main/005.gif)\")"
   ]
  },
  {
   "cell_type": "markdown",
   "metadata": {},
   "source": [
    "The approach has one major drawback. Because all the particles are attracted by the best one, they are all moving to the same position. That can easily cause stick in the local optima, as the best particle doesn't  need to be close to the global one. It is easy to demonstrace using function with many local optima - for example `f24`."
   ]
  },
  {
   "cell_type": "code",
   "execution_count": null,
   "metadata": {
    "scrolled": false
   },
   "outputs": [],
   "source": [
    "with fn.get_suite_wrapper(dimension=[2, 5], function_indices=[24]) as suite:\n",
    "    for function in suite:  # type: cocoex.Problem\n",
    "        populations, values = exe.execute_multiple(\n",
    "            function, \n",
    "            strategies.FollowBest.execute,\n",
    "            initialization=strategies.FollowBest.init,\n",
    "            show_progress=True)\n",
    "        print(('Found' if function.final_target_hit else 'Not found') + \" best solution\", flush=True)\n",
    "        print(f\"Best evaluation: {function.best_observed_fvalue1}\", flush=True)\n",
    "        eva_population, eva_values = exe.execute_multiple(function,strategies.differential_evolution)\n",
    "\n",
    "        plt.figure(figsize=(12,8))\n",
    "        plt.title(function.name)\n",
    "        plot.plot_aggregated(values, plot.popfn_median(), plot.aggfn_median(), label=\"Follow best\", c='r')\n",
    "        plot.plot_aggregated(values, plot.popfn_min(), plot.aggfn_median(), linestyle='--', c='r')\n",
    "        plot.plot_aggregated(eva_values, plot.popfn_median(), plot.aggfn_median(), label=\"Differential evolution\", c='b')\n",
    "        plot.plot_aggregated(eva_values, plot.popfn_min(), plot.aggfn_median(), linestyle='--', c='b')\n",
    "        plt.legend()\n",
    "        plt.show()\n",
    "        \n",
    "        if SHOW_GIFS and function.dimension == 2:\n",
    "            gif = plot.animate_movement(function, populations[0], show_progress=True)\n",
    "            with open(os.path.join(\"main\", \"006.gif\"), \"wb\") as f:\n",
    "                f.write(gif);\n",
    "            display.Markdown(\"![img](main/006.gif)\")"
   ]
  },
  {
   "cell_type": "markdown",
   "metadata": {},
   "source": [
    "Depending on the run, particles get stuck around $\\left[2,-2\\right]$ or $\\left[-4, 4\\right]$.In any case, they never converg and are moving around chaotically (that can be caused by the random movement as well). This can be seen from the plots as well, as the differential evolution is in order of magnitude better.\n",
    "\n",
    "On other hand, this allows particles to evolve over the whole time, compare to the differential evolution, which reached value around $97$ (for `f07`) respectivelly $117$ (for `f24`) and stucked there."
   ]
  },
  {
   "cell_type": "markdown",
   "metadata": {},
   "source": [
    "# Neighborhood\n",
    "\n",
    "This reasoning led to introduce neighborhood. Instead of following best particle from the whole swarm, each particle has some neighbors, with which it compares it's value. The definition of neighborhood (sometimes called topology) is not defined preciselly and there are many approaches.\n",
    "\n",
    "Firstly, the topology may change after each iteration or may remain static the whole time. In the first approach, each particle will eventually obtain information from all other particles - and thus can compare it's best known value with all the particles. Constant $K$ denotes how many particles inform each iteration and was set t $K=3$ in the paper. Because $K$ is quiet small, the problem is getting stuck in the local optimum is significantly reduced. In the second approach, the particle doesn't know about rest of the search space, unless some of it's neighbor reach it. This prevent swarm to get stuck in the local optima, but reduce amount of information each particle obtain a lot.\n",
    "\n",
    "Next we need to decide how the topology would look like. First (and deterministic) approach proposed by the paper was called \"ring topology\". When we index particles, the ring topology for particle $i$ is $\\left\\{i+1\\ mod(N), i+2\\ mod(N), \\dots, i+K\\ mod(N)\\right\\}$ where $N$ is number of particles. Another proposition was \"adaptive random topology\", where each particle picks three other particles at random and inform them about it's value (note that this topology in its static version is same as the previous one). Another topology is \"von Neumann\" topology, that you can see bellow (I will not discuss it here anymore, as it is just modification of the ring topology). Finally, we may simple use $K$ nearest neighboors and inform them (or take information from them)."
   ]
  },
  {
   "cell_type": "markdown",
   "metadata": {},
   "source": [
    "<a href=\"https://www.researchgate.net/figure/von-Neumann-neighborhood-structure-for-PSO_fig3_220742792\"><img src=\"https://www.researchgate.net/profile/Enrique_Villa_Diharce/publication/220742792/figure/fig3/AS:472200114380802@1489592688251/von-Neumann-neighborhood-structure-for-PSO.png\" alt=\"von Neumann neighborhood structure for PSO\"/></a>\n",
    "\n",
    "<center>Figure 3: von Neumann neighborhood structure for PSO <a href=\"#Bibliography\">[3]</a></center>"
   ]
  },
  {
   "cell_type": "markdown",
   "metadata": {},
   "source": [
    "I will show all the topologies and compare them. Let's start with the ring topology."
   ]
  },
  {
   "cell_type": "code",
   "execution_count": null,
   "metadata": {},
   "outputs": [],
   "source": [
    "definition = inspect.getsource(strategies.RingTopology)\n",
    "display.display(display.Markdown(f'```python\\n{definition}\\n```'))"
   ]
  },
  {
   "cell_type": "code",
   "execution_count": null,
   "metadata": {
    "scrolled": false
   },
   "outputs": [],
   "source": [
    "with fn.get_suite_wrapper(dimension=[2, 5], function_indices=[7]) as suite:\n",
    "    for function in suite:  # type: cocoex.Problem\n",
    "        populations, values = exe.execute_multiple(\n",
    "            function, \n",
    "            strategies.RingTopology.execute,\n",
    "            initialization=strategies.RingTopology.init,\n",
    "            show_progress=True)\n",
    "        print(('Found' if function.final_target_hit else 'Not found') + \" best solution\", flush=True)\n",
    "        print(f\"Best evaluation: {function.best_observed_fvalue1}\", flush=True)\n",
    "        eva_population, eva_values = exe.execute_multiple(function,strategies.differential_evolution)\n",
    "\n",
    "        plt.figure(figsize=(12,8))\n",
    "        plt.title(f\"Function f07 {function.dimension} using ring topology\")\n",
    "        plot.plot_aggregated(values, plot.popfn_median(), plot.aggfn_median(), label=\"Ring topology\", c='r')\n",
    "        plot.plot_aggregated(values, plot.popfn_min(), plot.aggfn_median(), linestyle='--', c='r')\n",
    "        plot.plot_aggregated(eva_values, plot.popfn_median(), plot.aggfn_median(), label=\"Differential evolution\", c='b')\n",
    "        plot.plot_aggregated(eva_values, plot.popfn_min(), plot.aggfn_median(), linestyle='--', c='b')\n",
    "        plt.legend()\n",
    "        plt.show()\n",
    "        \n",
    "        if SHOW_GIFS and function.dimension == 2:\n",
    "            gif = plot.animate_movement(function, populations[0], show_progress=True, title=\"Function f07 using ring topology\")\n",
    "            with open(os.path.join(\"main\", \"007.gif\"), \"wb\") as f:\n",
    "                f.write(gif);\n",
    "            display.Markdown(\"![img](main/007.gif)\")"
   ]
  },
  {
   "cell_type": "markdown",
   "metadata": {},
   "source": [
    "The results are about worse than following the best particle in the swarm. The reason (what I believe) is the information throughput is very small. In order to particle know about better position, some of it's neighbors needs to reach it first - the neighbor can't tell it directly, even if it knows about it. Therefore, behavior is more chaotic and as we can see from the gif, the particles doesn't converge at all.\n",
    "\n",
    "Now, let's try adaptive random topology."
   ]
  },
  {
   "cell_type": "code",
   "execution_count": null,
   "metadata": {},
   "outputs": [],
   "source": [
    "definition = inspect.getsource(strategies.RandomTopology)\n",
    "display.display(display.Markdown(f'```python\\n{definition}\\n```'))"
   ]
  },
  {
   "cell_type": "code",
   "execution_count": null,
   "metadata": {
    "scrolled": false
   },
   "outputs": [],
   "source": [
    "with fn.get_suite_wrapper(dimension=[2, 5], function_indices=[7]) as suite:\n",
    "    for function in suite:  # type: cocoex.Problem\n",
    "        populations, values = exe.execute_multiple(\n",
    "            function, \n",
    "            strategies.RandomTopology.execute,\n",
    "            initialization=strategies.RandomTopology.init,\n",
    "            show_progress=True)\n",
    "        print(('Found' if function.final_target_hit else 'Not found') + \" best solution\", flush=True)\n",
    "        print(f\"Best evaluation: {function.best_observed_fvalue1}\", flush=True)\n",
    "        eva_population, eva_values = exe.execute_multiple(function,strategies.differential_evolution)\n",
    "\n",
    "        plt.figure(figsize=(12,8))\n",
    "        plt.title(f\"Function f07 {function.dimension} using adaptive random topology\")\n",
    "        plot.plot_aggregated(values, plot.popfn_median(), plot.aggfn_median(), label=\"Random topology\", c='r')\n",
    "        plot.plot_aggregated(values, plot.popfn_min(), plot.aggfn_median(), linestyle='--', c='r')\n",
    "        plot.plot_aggregated(eva_values, plot.popfn_median(), plot.aggfn_median(), label=\"Differential evolution\", c='b')\n",
    "        plot.plot_aggregated(eva_values, plot.popfn_min(), plot.aggfn_median(), linestyle='--', c='b')\n",
    "        plt.legend()\n",
    "        plt.show()\n",
    "        \n",
    "        if SHOW_GIFS and function.dimension == 2:\n",
    "            gif = plot.animate_movement(function, populations[0], show_progress=True, title=\"Function f07 using adaptive random topology\")\n",
    "            with open(os.path.join(\"main\", \"008.gif\"), \"wb\") as f:\n",
    "                f.write(gif);\n",
    "            display.Markdown(\"![img](main/008.gif)\")"
   ]
  },
  {
   "cell_type": "markdown",
   "metadata": {},
   "source": [
    "Using the same constants, the results are much better. There is higher probabilily, that the particle would know about better position much sooner and therefore the swarm created cluster around the global optimum, althought it seems quiet hard to converge there. I believe it is caused by the random steps, as when I removed it, algorithm performed better.\n",
    "\n",
    "Note that the original reason for random steps was to add some randomness into the process. As we are picking up neigbors randomly this time, we don't need random steps anymore.\n",
    "\n",
    "Finally, let's look at the nearest topology."
   ]
  },
  {
   "cell_type": "code",
   "execution_count": null,
   "metadata": {},
   "outputs": [],
   "source": [
    "definition = inspect.getsource(strategies.NearestTopology)\n",
    "display.display(display.Markdown(f'```python\\n{definition}\\n```'))"
   ]
  },
  {
   "cell_type": "code",
   "execution_count": null,
   "metadata": {
    "scrolled": false
   },
   "outputs": [],
   "source": [
    "with fn.get_suite_wrapper(dimension=[2, 5], function_indices=[7]) as suite:\n",
    "    for function in suite:  # type: cocoex.Problem\n",
    "        populations, values = exe.execute_multiple(\n",
    "            function, \n",
    "            strategies.NearestTopology.execute,\n",
    "            initialization=strategies.NearestTopology.init,\n",
    "            show_progress=True)\n",
    "        print(('Found' if function.final_target_hit else 'Not found') + \" best solution\", flush=True)\n",
    "        print(f\"Best evaluation: {function.best_observed_fvalue1}\", flush=True)\n",
    "        eva_population, eva_values = exe.execute_multiple(function,strategies.differential_evolution)\n",
    "\n",
    "        plt.figure(figsize=(12,8))\n",
    "        plt.title(f\"Function f07 {function.dimension} using nearest topology\")\n",
    "        plot.plot_aggregated(values, plot.popfn_median(), plot.aggfn_median(), label=\"Random topology\", c='r')\n",
    "        plot.plot_aggregated(values, plot.popfn_min(), plot.aggfn_median(), linestyle='--', c='r')\n",
    "        plot.plot_aggregated(eva_values, plot.popfn_median(), plot.aggfn_median(), label=\"Differential evolution\", c='b')\n",
    "        plot.plot_aggregated(eva_values, plot.popfn_min(), plot.aggfn_median(), linestyle='--', c='b')\n",
    "        plt.legend()\n",
    "        plt.show()\n",
    "        \n",
    "        if SHOW_GIFS and function.dimension == 2:\n",
    "            gif = plot.animate_movement(function, populations[0], show_progress=True, title=\"Function f07 using ring topology\")\n",
    "            with open(os.path.join(\"main\", \"009.gif\"), \"wb\") as f:\n",
    "                f.write(gif);\n",
    "            display.Markdown(\"![img](main/009.gif)\")"
   ]
  },
  {
   "cell_type": "markdown",
   "metadata": {},
   "source": [
    "Although the algorithm seems to perform quiet well, from the movement gif is apparent main disadvantage - particles can create clusters away from the optimum, where they support each other (as they are neighbors). This approach can easily converge to local optima only.\n",
    "\n",
    "Let's see how would the approaches handles `f24` with many local optima."
   ]
  },
  {
   "cell_type": "code",
   "execution_count": null,
   "metadata": {
    "scrolled": false
   },
   "outputs": [],
   "source": [
    "with fn.get_suite_wrapper(dimension=[2, 5], function_indices=[24]) as suite:\n",
    "    for function_id in suite.ids():  # type: cocoex.Problem\n",
    "        suite.reset(); function = suite.get_problem(function_id)\n",
    "        pop_ring, val_ring = exe.execute_multiple(function,strategies.RingTopology.execute,initialization=strategies.RingTopology.init,show_progress=True)\n",
    "        print(('Found' if function.final_target_hit else 'Not found') + \" best solution using ring topology\", flush=True)\n",
    "        print(f\"Best evaluation: {function.best_observed_fvalue1}\", flush=True)\n",
    "        suite.reset(); function = suite.get_problem(function_id)\n",
    "        pop_rand, val_rand = exe.execute_multiple(function,strategies.RandomTopology.execute,initialization=strategies.RandomTopology.init,show_progress=True)\n",
    "        print(('Found' if function.final_target_hit else 'Not found') + \" best solution using random topology\", flush=True)\n",
    "        print(f\"Best evaluation: {function.best_observed_fvalue1}\", flush=True)\n",
    "        suite.reset(); function = suite.get_problem(function_id)\n",
    "        pop_near, val_near = exe.execute_multiple(function,strategies.NearestTopology.execute,initialization=strategies.NearestTopology.init,show_progress=True)\n",
    "        print(('Found' if function.final_target_hit else 'Not found') + \" best solution using nearest topology\", flush=True)\n",
    "        print(f\"Best evaluation: {function.best_observed_fvalue1}\", flush=True)\n",
    "        suite.reset(); function = suite.get_problem(function_id)\n",
    "        pop_eva, val_eva = exe.execute_multiple(function,strategies.differential_evolution, show_progress=True)\n",
    "        print(('Found' if function.final_target_hit else 'Not found') + \" best solution using differential evolution\", flush=True)\n",
    "        print(f\"Best evaluation: {function.best_observed_fvalue1}\", flush=True)\n",
    "\n",
    "        plt.figure(figsize=(12,8));\n",
    "        plt.title(function.name);\n",
    "        plot.plot_aggregated(val_ring, plot.popfn_median(), plot.aggfn_median(), label=\"Ring topology\", c='r')\n",
    "        plot.plot_aggregated(val_ring, plot.popfn_min(), plot.aggfn_median(), linestyle='--', c='r')\n",
    "        plot.plot_aggregated(val_rand, plot.popfn_median(), plot.aggfn_median(), label=\"Random topology\", c='g')\n",
    "        plot.plot_aggregated(val_rand, plot.popfn_min(), plot.aggfn_median(), linestyle='--', c='g')\n",
    "        plot.plot_aggregated(val_near, plot.popfn_median(), plot.aggfn_median(), label=\"Nearest topology\", c='#471c7c')\n",
    "        plot.plot_aggregated(val_near, plot.popfn_min(), plot.aggfn_median(), linestyle='--', c='#471c7c')\n",
    "        plot.plot_aggregated(val_eva, plot.popfn_median(), plot.aggfn_median(), label=\"Differential evolution\", c='b')\n",
    "        plot.plot_aggregated(val_eva, plot.popfn_min(), plot.aggfn_median(), linestyle='--', c='b')\n",
    "        plt.legend();\n",
    "        plt.show()\n",
    "        \n",
    "        if SHOW_GIFS and function.dimension == 2:\n",
    "            gif = plot.animate_movement(function, pop_ring[0], show_progress=True, title=\"Function f24 using ring topology\")\n",
    "            with open(os.path.join(\"main\", \"010.gif\"), \"wb\") as f:\n",
    "                f.write(gif);\n",
    "            display.Markdown(\"![img](main/010.gif)\")\n",
    "            gif = plot.animate_movement(function, pop_rand[0], show_progress=True, title=\"Function f24 using random topology\")\n",
    "            with open(os.path.join(\"main\", \"011.gif\"), \"wb\") as f:\n",
    "                f.write(gif);\n",
    "            display.Markdown(\"![img](main/011.gif)\")\n",
    "            gif = plot.animate_movement(function, pop_near[0], show_progress=True, title=\"Function f24 using nearest topology\")\n",
    "            with open(os.path.join(\"main\", \"012.gif\"), \"wb\") as f:\n",
    "                f.write(gif);\n",
    "            display.Markdown(\"![img](main/012.gif)\")\n",
    "            gif = plot.animate_movement(function, pop_eva[0], show_progress=True, title=\"Function f24 using differential evolution\")\n",
    "            with open(os.path.join(\"main\", \"013.gif\"), \"wb\") as f:\n",
    "                f.write(gif);\n",
    "            display.Markdown(\"![img](main/013.gif)\")"
   ]
  },
  {
   "cell_type": "markdown",
   "metadata": {},
   "source": [
    "# PSO 2006 - memory\n",
    "\n",
    "Problem with the approaches above were, that the particles take into account into current state of the swarm. Let's take for example particle at good spot and it's neighborhood of very bad particles. Although all particles in the neighborhood have worse value than the current particle, it will try to move into worse position. That's not very fortune and with small modification in the source code we could fix this issue, however I will take different approach and allow particles to remember best global position $b_g$ (best position obtained from other particles) and best local position $b_l$ (best position of the particle itself) over the whole evaluation.\n",
    "\n",
    "This brings us to the algorithm `Standard2006` or *SPSO 2006* (Standard Particle Swarm Optimisation 2006) [[4]](#Bibliography). Purpose of this paper was to standardize different implementations of Particle Swarm Optimization algorithm and mainly provide reference implementation that other algorithms can be compared with. The *SPSO 2006* algorithm is in fact the same algorithm, that were proposed by the \"Particle Swarm Optimisation\"[[1]](#Bibliography) paper in 1995.\n",
    "\n",
    "The implementation uses adaptive random topology and the velocity update is \n",
    "\n",
    "$$\n",
    "v_i = w \\cdot v_i + \\text{Unif}(0,c)\\cdot(b_g - p_i) + \\text{Unif}(0,c)\\cdot(b_l - p_i)\n",
    "$$\n",
    "\n",
    "Note that I removed the random step term, as the randomnes in sampling from uniform distribution is enough.\n",
    "\n",
    "To follow the standard implementation, I changed the initialization of velocities to $v_i(0)=\\frac{\\text{Unif}(min, max) - p_i(0)}{2}$. Original paper also uses synchronous updates (looping over all the particles sequentially). I decided implement the algorithm in an asynchronous manner - it better reflects our idea of \"moving particles\" and `numpy` library allows to vectorize the instructions, so the improvement in performance is significant."
   ]
  },
  {
   "cell_type": "code",
   "execution_count": null,
   "metadata": {},
   "outputs": [],
   "source": [
    "definition = inspect.getsource(strategies.Standard2006)\n",
    "display.display(display.Markdown(f'```python\\n{definition}\\n```'))"
   ]
  },
  {
   "cell_type": "code",
   "execution_count": null,
   "metadata": {
    "scrolled": false
   },
   "outputs": [],
   "source": [
    "with fn.get_suite_wrapper(dimension=[2, 5], function_indices=[7, 24]) as suite:\n",
    "    gif_counter = 14\n",
    "    for function in suite:  # type: cocoex.Problem\n",
    "        populations, values = exe.execute_multiple(\n",
    "            function, \n",
    "            strategies.Standard2006.execute,\n",
    "            initialization=strategies.Standard2006.init,\n",
    "            show_progress=True)\n",
    "        print(('Found' if function.final_target_hit else 'Not found') + \" best solution\", flush=True)\n",
    "        print(f\"Best evaluation: {function.best_observed_fvalue1}\", flush=True)\n",
    "        eva_population, eva_values = exe.execute_multiple(function,strategies.differential_evolution)\n",
    "\n",
    "        plt.figure(figsize=(12,8))\n",
    "        plt.title(function.name)\n",
    "        plot.plot_aggregated(values, plot.popfn_median(), plot.aggfn_median(), label=\"Standard 2006\", c='r')\n",
    "        plot.plot_aggregated(values, plot.popfn_min(), plot.aggfn_median(), linestyle='--', c='r')\n",
    "        plot.plot_aggregated(eva_values, plot.popfn_median(), plot.aggfn_median(), label=\"Differential evolution\", c='b')\n",
    "        plot.plot_aggregated(eva_values, plot.popfn_min(), plot.aggfn_median(), linestyle='--', c='b')\n",
    "        plt.legend()\n",
    "        plt.show()\n",
    "        \n",
    "        if SHOW_GIFS and function.dimension == 2:\n",
    "            gif = plot.animate_movement(function, populations[0], show_progress=True)\n",
    "            with open(os.path.join(\"main\", f\"{gif_counter:03d}.gif\"), \"wb\") as f:\n",
    "                f.write(gif);\n",
    "            display.Markdown(f\"![img](main/{gif_counter:03d}.gif)\")\n",
    "            gif_counter = gif_counter + 1"
   ]
  },
  {
   "cell_type": "markdown",
   "metadata": {},
   "source": [
    "Finally, we have better algorithm than differencial evolution. Although median of the standard 2006 algorithm is worse, at least some particles reach lower (i.e. better) values. The problem of differential evolution is that the individuals are \"static\" - when all individuals reach some region, there is no way to get out of it. That is not necesarry true for the particles - even if they reach the best known optimum, they usually have some velocity left. That cause them to continue according to velocity and allow them to explore parameter space around. There is very low probability that particle would stop moving.\n",
    "\n",
    "Before moving on, there is *SPSO 2007* algorithm that adds just cosmetic updates to this algorithm. Mainly, its permutate the particles before each iteration (as it uses synchronous updates). I decided for asynchronous updates, so this change doesn't bother us. Another change is usage of KISS pseudorandom generator - again something, that doesn't bother me. Therefore I will not be talking about *SPSO 2007* anymore."
   ]
  },
  {
   "cell_type": "markdown",
   "metadata": {},
   "source": [
    "# PSO 2011"
   ]
  },
  {
   "cell_type": "markdown",
   "metadata": {},
   "source": [
    "# Bibliography\n",
    "\n",
    "\\[1\\] J. Kennedy and R. Eberhart, \"Particle swarm optimization,\" Proceedings of ICNN'95 - International Conference on Neural Networks, Perth, WA, Australia, 1995, pp. 1942-1948 vol.4.\n",
    "\n",
    "\\[2 \\] R. Storn, \"On the usage of differential evolution for function optimization,\" Proceedings of North American Fuzzy Information Processing, Berkeley, CA, USA, 1996, pp. 519-523.\n",
    "\n",
    "\\[3 \\] Munoz-Zavala, Angel & Hernandez-Aguirre, Arturo & Villa Diharce, Enrique. (2009). The singly-linked ring topology for the particle swarm optimization algorithm. 65-72. 10.1145/1569901.1569911. \n",
    "\n",
    "\\[4 \\] Maurice Clerc. Standard Particle Swarm Optimisation. 2012. ffhal-00764996"
   ]
  }
 ],
 "metadata": {
  "kernelspec": {
   "display_name": "Python 3",
   "language": "python",
   "name": "python3"
  },
  "language_info": {
   "codemirror_mode": {
    "name": "ipython",
    "version": 3
   },
   "file_extension": ".py",
   "mimetype": "text/x-python",
   "name": "python",
   "nbconvert_exporter": "python",
   "pygments_lexer": "ipython3",
   "version": "3.7.5"
  }
 },
 "nbformat": 4,
 "nbformat_minor": 4
}
